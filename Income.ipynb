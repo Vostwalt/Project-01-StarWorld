{
 "cells": [
  {
   "cell_type": "markdown",
   "id": "e1bf11ae",
   "metadata": {},
   "source": [
    "# Analysis: \n",
    "\n",
    "### - The average income of the counties is not directly affected by the population of the county.\n",
    "### - While having a lower population than Mecklenburg county, Denver county in Colorado has a similar average and median income. \n",
    "### - San Francisco county has the largest average income, this may be due to a higher cost of living in the county. \n"
   ]
  },
  {
   "cell_type": "code",
   "execution_count": 1,
   "id": "b105f158",
   "metadata": {},
   "outputs": [],
   "source": [
    "import pandas as pd\n",
    "import matplotlib.pyplot as plt\n",
    "import numpy as np"
   ]
  },
  {
   "cell_type": "code",
   "execution_count": 47,
   "id": "49fa9f77",
   "metadata": {
    "scrolled": false
   },
   "outputs": [
    {
     "data": {
      "text/html": [
       "<div>\n",
       "<style scoped>\n",
       "    .dataframe tbody tr th:only-of-type {\n",
       "        vertical-align: middle;\n",
       "    }\n",
       "\n",
       "    .dataframe tbody tr th {\n",
       "        vertical-align: top;\n",
       "    }\n",
       "\n",
       "    .dataframe thead th {\n",
       "        text-align: right;\n",
       "    }\n",
       "</style>\n",
       "<table border=\"1\" class=\"dataframe\">\n",
       "  <thead>\n",
       "    <tr style=\"text-align: right;\">\n",
       "      <th></th>\n",
       "      <th>Label (Grouping)</th>\n",
       "      <th>Median income (dollars)</th>\n",
       "      <th>Mean income (dollars)</th>\n",
       "    </tr>\n",
       "  </thead>\n",
       "  <tbody>\n",
       "    <tr>\n",
       "      <th>0</th>\n",
       "      <td>San Francisco County, California</td>\n",
       "      <td>136692</td>\n",
       "      <td>199900</td>\n",
       "    </tr>\n",
       "    <tr>\n",
       "      <th>1</th>\n",
       "      <td>Denver County, Colorado</td>\n",
       "      <td>88213</td>\n",
       "      <td>125904</td>\n",
       "    </tr>\n",
       "    <tr>\n",
       "      <th>2</th>\n",
       "      <td>Mecklenburg County, North Carolina</td>\n",
       "      <td>80365</td>\n",
       "      <td>120629</td>\n",
       "    </tr>\n",
       "    <tr>\n",
       "      <th>3</th>\n",
       "      <td>Travis County, Texas</td>\n",
       "      <td>95259</td>\n",
       "      <td>136162</td>\n",
       "    </tr>\n",
       "  </tbody>\n",
       "</table>\n",
       "</div>"
      ],
      "text/plain": [
       "                     Label (Grouping)  Median income (dollars)  \\\n",
       "0    San Francisco County, California                   136692   \n",
       "1             Denver County, Colorado                    88213   \n",
       "2  Mecklenburg County, North Carolina                    80365   \n",
       "3                Travis County, Texas                    95259   \n",
       "\n",
       "   Mean income (dollars)  \n",
       "0                 199900  \n",
       "1                 125904  \n",
       "2                 120629  \n",
       "3                 136162  "
      ]
     },
     "execution_count": 47,
     "metadata": {},
     "output_type": "execute_result"
    }
   ],
   "source": [
    "\"\"\"\n",
    "The values from this csv were part of a larger dataset that could be pulled from and specified within the Census.gov website.\n",
    "From the larger set, I specified the counties and values that I needed for the specific counties in the project. \n",
    "Then the website lets you pull all of that data into a csv that is being read below. \n",
    "\n",
    "\"\"\"\n",
    "csv_path = \"Resources/ACTUALINCOMEDATA.csv\"\n",
    "income_df = pd.read_csv(csv_path,converters={\n",
    "    \"Median income (dollars)\":int, \n",
    "    \"Mean income (dollars)\": int},\n",
    "    encoding=\"utf-8\")\n",
    "income_df"
   ]
  },
  {
   "cell_type": "code",
   "execution_count": 3,
   "id": "013cbebb",
   "metadata": {},
   "outputs": [
    {
     "data": {
      "text/html": [
       "<div>\n",
       "<style scoped>\n",
       "    .dataframe tbody tr th:only-of-type {\n",
       "        vertical-align: middle;\n",
       "    }\n",
       "\n",
       "    .dataframe tbody tr th {\n",
       "        vertical-align: top;\n",
       "    }\n",
       "\n",
       "    .dataframe thead th {\n",
       "        text-align: right;\n",
       "    }\n",
       "</style>\n",
       "<table border=\"1\" class=\"dataframe\">\n",
       "  <thead>\n",
       "    <tr style=\"text-align: right;\">\n",
       "      <th></th>\n",
       "      <th>County</th>\n",
       "      <th>Median income (dollars)</th>\n",
       "      <th>Mean income (dollars)</th>\n",
       "    </tr>\n",
       "  </thead>\n",
       "  <tbody>\n",
       "    <tr>\n",
       "      <th>0</th>\n",
       "      <td>San Francisco County, California</td>\n",
       "      <td>136692</td>\n",
       "      <td>199900</td>\n",
       "    </tr>\n",
       "    <tr>\n",
       "      <th>1</th>\n",
       "      <td>Denver County, Colorado</td>\n",
       "      <td>88213</td>\n",
       "      <td>125904</td>\n",
       "    </tr>\n",
       "    <tr>\n",
       "      <th>2</th>\n",
       "      <td>Mecklenburg County, North Carolina</td>\n",
       "      <td>80365</td>\n",
       "      <td>120629</td>\n",
       "    </tr>\n",
       "    <tr>\n",
       "      <th>3</th>\n",
       "      <td>Travis County, Texas</td>\n",
       "      <td>95259</td>\n",
       "      <td>136162</td>\n",
       "    </tr>\n",
       "  </tbody>\n",
       "</table>\n",
       "</div>"
      ],
      "text/plain": [
       "                               County  Median income (dollars)  \\\n",
       "0    San Francisco County, California                   136692   \n",
       "1             Denver County, Colorado                    88213   \n",
       "2  Mecklenburg County, North Carolina                    80365   \n",
       "3                Travis County, Texas                    95259   \n",
       "\n",
       "   Mean income (dollars)  \n",
       "0                 199900  \n",
       "1                 125904  \n",
       "2                 120629  \n",
       "3                 136162  "
      ]
     },
     "execution_count": 3,
     "metadata": {},
     "output_type": "execute_result"
    }
   ],
   "source": [
    "#rearrange and rename the index for the DF\n",
    "\n",
    "renamed_df = income_df.rename(columns={ \n",
    "    \"Label (Grouping)\" : \"County\"\n",
    "})\n",
    "\n",
    "renamed_df"
   ]
  },
  {
   "cell_type": "code",
   "execution_count": 4,
   "id": "8ba887d8",
   "metadata": {},
   "outputs": [
    {
     "data": {
      "text/html": [
       "<div>\n",
       "<style scoped>\n",
       "    .dataframe tbody tr th:only-of-type {\n",
       "        vertical-align: middle;\n",
       "    }\n",
       "\n",
       "    .dataframe tbody tr th {\n",
       "        vertical-align: top;\n",
       "    }\n",
       "\n",
       "    .dataframe thead th {\n",
       "        text-align: right;\n",
       "    }\n",
       "</style>\n",
       "<table border=\"1\" class=\"dataframe\">\n",
       "  <thead>\n",
       "    <tr style=\"text-align: right;\">\n",
       "      <th></th>\n",
       "      <th>Median income (dollars)</th>\n",
       "      <th>Mean income (dollars)</th>\n",
       "    </tr>\n",
       "    <tr>\n",
       "      <th>County</th>\n",
       "      <th></th>\n",
       "      <th></th>\n",
       "    </tr>\n",
       "  </thead>\n",
       "  <tbody>\n",
       "    <tr>\n",
       "      <th>San Francisco County, California</th>\n",
       "      <td>136692</td>\n",
       "      <td>199900</td>\n",
       "    </tr>\n",
       "    <tr>\n",
       "      <th>Denver County, Colorado</th>\n",
       "      <td>88213</td>\n",
       "      <td>125904</td>\n",
       "    </tr>\n",
       "    <tr>\n",
       "      <th>Mecklenburg County, North Carolina</th>\n",
       "      <td>80365</td>\n",
       "      <td>120629</td>\n",
       "    </tr>\n",
       "    <tr>\n",
       "      <th>Travis County, Texas</th>\n",
       "      <td>95259</td>\n",
       "      <td>136162</td>\n",
       "    </tr>\n",
       "  </tbody>\n",
       "</table>\n",
       "</div>"
      ],
      "text/plain": [
       "                                    Median income (dollars)  \\\n",
       "County                                                        \n",
       "San Francisco County, California                     136692   \n",
       "Denver County, Colorado                               88213   \n",
       "Mecklenburg County, North Carolina                    80365   \n",
       "Travis County, Texas                                  95259   \n",
       "\n",
       "                                    Mean income (dollars)  \n",
       "County                                                     \n",
       "San Francisco County, California                   199900  \n",
       "Denver County, Colorado                            125904  \n",
       "Mecklenburg County, North Carolina                 120629  \n",
       "Travis County, Texas                               136162  "
      ]
     },
     "execution_count": 4,
     "metadata": {},
     "output_type": "execute_result"
    }
   ],
   "source": [
    "renamed_df = renamed_df.set_index(\"County\")\n",
    "\n",
    "renamed_df"
   ]
  },
  {
   "cell_type": "code",
   "execution_count": 38,
   "id": "7945084f",
   "metadata": {
    "scrolled": false
   },
   "outputs": [
    {
     "data": {
      "text/plain": [
       "(0.0, 250000.0)"
      ]
     },
     "execution_count": 38,
     "metadata": {},
     "output_type": "execute_result"
    },
    {
     "data": {
      "image/png": "[encoded data removed]",
      "text/plain": [
       "<Figure size 640x480 with 1 Axes>"
      ]
     },
     "metadata": {},
     "output_type": "display_data"
    }
   ],
   "source": [
    "\"\"\"\n",
    "plot_pandas = renamed_df.plot.bar() \n",
    "plt.title(\"Average and Median Income per County\")\n",
    "plt.ylabel('Income')\n",
    "plt.xlabel('County')\n",
    "plt.xticks(rotation=45)\n",
    "\"\"\"\n",
    "\n",
    "#have the counties in a counties variable for plotting\n",
    "counties = (\"San Francisco\", \"Denver\", \"Mecklenburg\", \"Travis(Austin)\")\n",
    "# the label locations\n",
    "x = np.arange(len(renamed_df))  \n",
    "# the width of the bars\n",
    "width = 0.4  \n",
    "multiplier = 0.3\n",
    "\n",
    "#create the bar graph\n",
    "fig, ax = plt.subplots(layout='constrained')\n",
    "\n",
    "#for loop that will create each bar with the critirea below\n",
    "for attribute, measurement in renamed_df.items():\n",
    "    offset = width * multiplier\n",
    "    rects = ax.bar(x + offset, measurement, width, label=attribute,)\n",
    "    ax.bar_label(rects, padding=3)\n",
    "    multiplier += 1\n",
    "\n",
    "#formatting for labels of x and y values\n",
    "ax.set_ylabel('Income')\n",
    "ax.set_xlabel('County')\n",
    "ax.set_xticks(x + width, counties)\n",
    "ax.set_title('Average and Median Income per County')\n",
    "ax.legend(loc='upper left', ncols=3)\n",
    "ax.set_ylim(0, 250000)\n",
    "\n",
    "\"\"\"\n",
    "The formatting for using ax for the plots was learned from a matplotlib tutorial on matplotlib.org\n",
    "This was used to learn how to create grouped barcharts and then be able to show the value counts on top of those bars.\n",
    "\n",
    "\"\"\""
   ]
  },
  {
   "cell_type": "code",
   "execution_count": 50,
   "id": "057c2418",
   "metadata": {},
   "outputs": [],
   "source": [
    "fig.savefig(\"Images/Average_Income.png\")"
   ]
  },
  {
   "cell_type": "code",
   "execution_count": null,
   "id": "56faae7f",
   "metadata": {},
   "outputs": [],
   "source": []
  }
 ],
 "metadata": {
  "kernelspec": {
   "display_name": "Python 3 (ipykernel)",
   "language": "python",
   "name": "python3"
  },
  "language_info": {
   "codemirror_mode": {
    "name": "ipython",
    "version": 3
   },
   "file_extension": ".py",
   "mimetype": "text/x-python",
   "name": "python",
   "nbconvert_exporter": "python",
   "pygments_lexer": "ipython3",
   "version": "3.11.5"
  }
 },
 "nbformat": 4,
 "nbformat_minor": 5
}
